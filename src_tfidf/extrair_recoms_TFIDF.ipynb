{
 "cells": [
  {
   "cell_type": "code",
   "execution_count": 4,
   "metadata": {},
   "outputs": [
    {
     "name": "stdout",
     "output_type": "stream",
     "text": [
      "Dados textuais carregados com sucesso \n",
      "\n"
     ]
    },
    {
     "name": "stderr",
     "output_type": "stream",
     "text": [
      "Gerando TF-IDF embeddings: 100%|██████████| 1/1 [00:00<00:00,  1.23it/s]\n",
      "Calculando similaridade do cosseno: 100%|██████████| 1/1 [00:34<00:00, 34.37s/it]"
     ]
    },
    {
     "name": "stdout",
     "output_type": "stream",
     "text": [
      "Embeddings TF-IDF gerados com sucesso!\n",
      "\n"
     ]
    },
    {
     "name": "stderr",
     "output_type": "stream",
     "text": [
      "\n"
     ]
    }
   ],
   "source": [
    "##notebook p/ extrair recomends usando TFIDF + COS_SIM + Euclidean + Manhattan\n",
    "##para implemenatr em prod, melhpr solucao é guardar vetores de embds gerados em um chromadb com\n",
    "##atualizacao incremental sempre que novos itens entrarem na base\n",
    "\n",
    "from TFIDF_recomend_construct import TfidfRecommender\n",
    "import os\n",
    "from dotenv import load_dotenv\n",
    "import pandas as pd\n",
    "\n",
    "load_dotenv()\n",
    "\n",
    "##Para o DB de cursos:\n",
    "#emb_cols = ['apresentacao', 'conteudo_programatico']\n",
    "\n",
    "##Para o DB de livros:\n",
    "emb_cols = ['description']\n",
    "\n",
    "rec = TfidfRecommender(\n",
    "    DB_USER = os.getenv(\"DB_USER\"),\n",
    "    DB_PASS=os.getenv(\"DB_PASS\"),\n",
    "    DB_NAME=os.getenv(\"DB_NAME\"),\n",
    "    DB_HOST=os.getenv(\"DB_HOST\"),\n",
    "    emb_cols=emb_cols,\n",
    "    id_col='isbn',\n",
    "    item_name_col='title'\n",
    "    # id_col= 'id_curso',\n",
    "    # item_name_col = 'nome_curso'\n",
    ")\n",
    "\n",
    "##carrego a tabela do DB (aqui colocar 'livros' ou 'cursos')\n",
    "rec.carrega_dados('livros')\n",
    "##aplico limpeza simples aos dados\n",
    "rec.gerar_embeddings()\n",
    "\n",
    "# recomendacoes:\n",
    "#recomendacoes = rec.recomendar(113, 3)\n",
    "#recomendacoes = rec.recomendar(9788500010361, 5)\n",
    "#recomendacoes\n"
   ]
  },
  {
   "cell_type": "code",
   "execution_count": 2,
   "metadata": {},
   "outputs": [
    {
     "name": "stdout",
     "output_type": "stream",
     "text": [
      "As recomendações mais similares ao item 'Conceitos Essenciais Sobre Patologias Em Estruturas De Concreto' são:\n",
      "\n"
     ]
    },
    {
     "data": {
      "text/html": [
       "<div>\n",
       "<style scoped>\n",
       "    .dataframe tbody tr th:only-of-type {\n",
       "        vertical-align: middle;\n",
       "    }\n",
       "\n",
       "    .dataframe tbody tr th {\n",
       "        vertical-align: top;\n",
       "    }\n",
       "\n",
       "    .dataframe thead th {\n",
       "        text-align: right;\n",
       "    }\n",
       "</style>\n",
       "<table border=\"1\" class=\"dataframe\">\n",
       "  <thead>\n",
       "    <tr style=\"text-align: right;\">\n",
       "      <th></th>\n",
       "      <th>Item Recomendado</th>\n",
       "      <th>Similaridade_COSS</th>\n",
       "    </tr>\n",
       "  </thead>\n",
       "  <tbody>\n",
       "    <tr>\n",
       "      <th>1</th>\n",
       "      <td>Estruturas Organizacionais do Poder Executivo Federal - Siorg</td>\n",
       "      <td>0.100401</td>\n",
       "    </tr>\n",
       "    <tr>\n",
       "      <th>2</th>\n",
       "      <td>Conhecendo o PROARTE</td>\n",
       "      <td>0.097901</td>\n",
       "    </tr>\n",
       "    <tr>\n",
       "      <th>3</th>\n",
       "      <td>Educação Patrimonial e Arte</td>\n",
       "      <td>0.084762</td>\n",
       "    </tr>\n",
       "  </tbody>\n",
       "</table>\n",
       "</div>"
      ],
      "text/plain": [
       "                                                Item Recomendado  \\\n",
       "1  Estruturas Organizacionais do Poder Executivo Federal - Siorg   \n",
       "2                                           Conhecendo o PROARTE   \n",
       "3                                    Educação Patrimonial e Arte   \n",
       "\n",
       "   Similaridade_COSS  \n",
       "1           0.100401  \n",
       "2           0.097901  \n",
       "3           0.084762  "
      ]
     },
     "execution_count": 2,
     "metadata": {},
     "output_type": "execute_result"
    }
   ],
   "source": [
    "recomendacoes2 = rec.recomendar(889, 3)\n",
    "\n",
    "recomendacoes2"
   ]
  },
  {
   "cell_type": "code",
   "execution_count": 3,
   "metadata": {},
   "outputs": [
    {
     "name": "stdout",
     "output_type": "stream",
     "text": [
      "As recomendações mais similares ao item 'Etapas E Procedimentos Do Pnld' são:\n",
      "\n"
     ]
    },
    {
     "data": {
      "text/html": [
       "<div>\n",
       "<style scoped>\n",
       "    .dataframe tbody tr th:only-of-type {\n",
       "        vertical-align: middle;\n",
       "    }\n",
       "\n",
       "    .dataframe tbody tr th {\n",
       "        vertical-align: top;\n",
       "    }\n",
       "\n",
       "    .dataframe thead th {\n",
       "        text-align: right;\n",
       "    }\n",
       "</style>\n",
       "<table border=\"1\" class=\"dataframe\">\n",
       "  <thead>\n",
       "    <tr style=\"text-align: right;\">\n",
       "      <th></th>\n",
       "      <th>Item Recomendado</th>\n",
       "      <th>Similaridade_COSS</th>\n",
       "    </tr>\n",
       "  </thead>\n",
       "  <tbody>\n",
       "    <tr>\n",
       "      <th>1</th>\n",
       "      <td>PNLD – Programa Nacional do Livro e do Material Didático</td>\n",
       "      <td>0.564514</td>\n",
       "    </tr>\n",
       "    <tr>\n",
       "      <th>2</th>\n",
       "      <td>A importância do PNLD</td>\n",
       "      <td>0.546820</td>\n",
       "    </tr>\n",
       "    <tr>\n",
       "      <th>3</th>\n",
       "      <td>A construção dos livros didáticos do PNLD</td>\n",
       "      <td>0.412911</td>\n",
       "    </tr>\n",
       "  </tbody>\n",
       "</table>\n",
       "</div>"
      ],
      "text/plain": [
       "                                           Item Recomendado  Similaridade_COSS\n",
       "1  PNLD – Programa Nacional do Livro e do Material Didático           0.564514\n",
       "2                                     A importância do PNLD           0.546820\n",
       "3                 A construção dos livros didáticos do PNLD           0.412911"
      ]
     },
     "execution_count": 3,
     "metadata": {},
     "output_type": "execute_result"
    }
   ],
   "source": [
    "recomendacoes3 = rec.recomendar(390, 3)\n",
    "\n",
    "recomendacoes3"
   ]
  },
  {
   "cell_type": "code",
   "execution_count": 6,
   "metadata": {},
   "outputs": [
    {
     "name": "stdout",
     "output_type": "stream",
     "text": [
      "As recomendações mais similares ao item 'Homem Mais Rico Da Babilônia,O' são:\n",
      "\n"
     ]
    },
    {
     "data": {
      "text/html": [
       "<div>\n",
       "<style scoped>\n",
       "    .dataframe tbody tr th:only-of-type {\n",
       "        vertical-align: middle;\n",
       "    }\n",
       "\n",
       "    .dataframe tbody tr th {\n",
       "        vertical-align: top;\n",
       "    }\n",
       "\n",
       "    .dataframe thead th {\n",
       "        text-align: right;\n",
       "    }\n",
       "</style>\n",
       "<table border=\"1\" class=\"dataframe\">\n",
       "  <thead>\n",
       "    <tr style=\"text-align: right;\">\n",
       "      <th></th>\n",
       "      <th>Item Recomendado</th>\n",
       "      <th>Similaridade_COSS</th>\n",
       "    </tr>\n",
       "  </thead>\n",
       "  <tbody>\n",
       "    <tr>\n",
       "      <th>1</th>\n",
       "      <td>Ontem não te vi em Babilónia</td>\n",
       "      <td>0.294387</td>\n",
       "    </tr>\n",
       "    <tr>\n",
       "      <th>2</th>\n",
       "      <td>Babilônia</td>\n",
       "      <td>0.282480</td>\n",
       "    </tr>\n",
       "    <tr>\n",
       "      <th>3</th>\n",
       "      <td>Perdidos na Babilônia (Vol. 2 As sete maravilhas)</td>\n",
       "      <td>0.241638</td>\n",
       "    </tr>\n",
       "    <tr>\n",
       "      <th>4</th>\n",
       "      <td>As práticas para a prosperidades extraídas de - O homem mais rico da Babilônia</td>\n",
       "      <td>0.172307</td>\n",
       "    </tr>\n",
       "    <tr>\n",
       "      <th>5</th>\n",
       "      <td>Nós Queremos Que Você Fique Rico</td>\n",
       "      <td>0.131479</td>\n",
       "    </tr>\n",
       "    <tr>\n",
       "      <th>6</th>\n",
       "      <td>A Selva do Dinheiro</td>\n",
       "      <td>0.128702</td>\n",
       "    </tr>\n",
       "    <tr>\n",
       "      <th>7</th>\n",
       "      <td>Para entender o mundo financeiro</td>\n",
       "      <td>0.122983</td>\n",
       "    </tr>\n",
       "    <tr>\n",
       "      <th>8</th>\n",
       "      <td>Como se preocupar menos com dinheiro</td>\n",
       "      <td>0.121139</td>\n",
       "    </tr>\n",
       "    <tr>\n",
       "      <th>9</th>\n",
       "      <td>O Ciclo Gestatorio de Um Homem</td>\n",
       "      <td>0.116712</td>\n",
       "    </tr>\n",
       "    <tr>\n",
       "      <th>10</th>\n",
       "      <td>O dinheiro</td>\n",
       "      <td>0.112722</td>\n",
       "    </tr>\n",
       "  </tbody>\n",
       "</table>\n",
       "</div>"
      ],
      "text/plain": [
       "                                                                  Item Recomendado  \\\n",
       "1                                                     Ontem não te vi em Babilónia   \n",
       "2                                                                        Babilônia   \n",
       "3                                Perdidos na Babilônia (Vol. 2 As sete maravilhas)   \n",
       "4   As práticas para a prosperidades extraídas de - O homem mais rico da Babilônia   \n",
       "5                                                 Nós Queremos Que Você Fique Rico   \n",
       "6                                                              A Selva do Dinheiro   \n",
       "7                                                 Para entender o mundo financeiro   \n",
       "8                                             Como se preocupar menos com dinheiro   \n",
       "9                                                   O Ciclo Gestatorio de Um Homem   \n",
       "10                                                                      O dinheiro   \n",
       "\n",
       "    Similaridade_COSS  \n",
       "1            0.294387  \n",
       "2            0.282480  \n",
       "3            0.241638  \n",
       "4            0.172307  \n",
       "5            0.131479  \n",
       "6            0.128702  \n",
       "7            0.122983  \n",
       "8            0.121139  \n",
       "9            0.116712  \n",
       "10           0.112722  "
      ]
     },
     "execution_count": 6,
     "metadata": {},
     "output_type": "execute_result"
    }
   ],
   "source": [
    "livros1 = rec.recomendar(9788500003042, 10)\n",
    "livros1"
   ]
  },
  {
   "cell_type": "code",
   "execution_count": 7,
   "metadata": {},
   "outputs": [
    {
     "name": "stdout",
     "output_type": "stream",
     "text": [
      "As recomendações mais similares ao item 'O Livro De Ouro Do Futebol' são:\n",
      "\n"
     ]
    },
    {
     "data": {
      "text/html": [
       "<div>\n",
       "<style scoped>\n",
       "    .dataframe tbody tr th:only-of-type {\n",
       "        vertical-align: middle;\n",
       "    }\n",
       "\n",
       "    .dataframe tbody tr th {\n",
       "        vertical-align: top;\n",
       "    }\n",
       "\n",
       "    .dataframe thead th {\n",
       "        text-align: right;\n",
       "    }\n",
       "</style>\n",
       "<table border=\"1\" class=\"dataframe\">\n",
       "  <thead>\n",
       "    <tr style=\"text-align: right;\">\n",
       "      <th></th>\n",
       "      <th>Item Recomendado</th>\n",
       "      <th>Similaridade_COSS</th>\n",
       "    </tr>\n",
       "  </thead>\n",
       "  <tbody>\n",
       "    <tr>\n",
       "      <th>1</th>\n",
       "      <td>A época do futebol</td>\n",
       "      <td>0.356855</td>\n",
       "    </tr>\n",
       "    <tr>\n",
       "      <th>2</th>\n",
       "      <td>Nações em campo</td>\n",
       "      <td>0.312640</td>\n",
       "    </tr>\n",
       "    <tr>\n",
       "      <th>3</th>\n",
       "      <td>Escola brasileira de futebol</td>\n",
       "      <td>0.309558</td>\n",
       "    </tr>\n",
       "    <tr>\n",
       "      <th>4</th>\n",
       "      <td>Escola Brasileira De Futebol</td>\n",
       "      <td>0.295942</td>\n",
       "    </tr>\n",
       "    <tr>\n",
       "      <th>5</th>\n",
       "      <td>Futebol, cultura e sociedade</td>\n",
       "      <td>0.282846</td>\n",
       "    </tr>\n",
       "    <tr>\n",
       "      <th>6</th>\n",
       "      <td>Futebol: o Brasil em campo</td>\n",
       "      <td>0.247098</td>\n",
       "    </tr>\n",
       "    <tr>\n",
       "      <th>7</th>\n",
       "      <td>A invenção do país do futebol</td>\n",
       "      <td>0.245901</td>\n",
       "    </tr>\n",
       "    <tr>\n",
       "      <th>8</th>\n",
       "      <td>Guia politicamente incorreto do futebol</td>\n",
       "      <td>0.233299</td>\n",
       "    </tr>\n",
       "    <tr>\n",
       "      <th>9</th>\n",
       "      <td>As relações étnico-raciais e o futebol do Rio de Janeiro</td>\n",
       "      <td>0.231641</td>\n",
       "    </tr>\n",
       "    <tr>\n",
       "      <th>10</th>\n",
       "      <td>Banho de bola</td>\n",
       "      <td>0.230044</td>\n",
       "    </tr>\n",
       "  </tbody>\n",
       "</table>\n",
       "</div>"
      ],
      "text/plain": [
       "                                            Item Recomendado  \\\n",
       "1                                         A época do futebol   \n",
       "2                                            Nações em campo   \n",
       "3                               Escola brasileira de futebol   \n",
       "4                               Escola Brasileira De Futebol   \n",
       "5                               Futebol, cultura e sociedade   \n",
       "6                                 Futebol: o Brasil em campo   \n",
       "7                              A invenção do país do futebol   \n",
       "8                    Guia politicamente incorreto do futebol   \n",
       "9   As relações étnico-raciais e o futebol do Rio de Janeiro   \n",
       "10                                             Banho de bola   \n",
       "\n",
       "    Similaridade_COSS  \n",
       "1            0.356855  \n",
       "2            0.312640  \n",
       "3            0.309558  \n",
       "4            0.295942  \n",
       "5            0.282846  \n",
       "6            0.247098  \n",
       "7            0.245901  \n",
       "8            0.233299  \n",
       "9            0.231641  \n",
       "10           0.230044  "
      ]
     },
     "execution_count": 7,
     "metadata": {},
     "output_type": "execute_result"
    }
   ],
   "source": [
    "livros2 = rec.recomendar(9788500010361,10)\n",
    "livros2"
   ]
  }
 ],
 "metadata": {
  "kernelspec": {
   "display_name": "3.12.3",
   "language": "python",
   "name": "python3"
  },
  "language_info": {
   "codemirror_mode": {
    "name": "ipython",
    "version": 3
   },
   "file_extension": ".py",
   "mimetype": "text/x-python",
   "name": "python",
   "nbconvert_exporter": "python",
   "pygments_lexer": "ipython3",
   "version": "3.12.3"
  }
 },
 "nbformat": 4,
 "nbformat_minor": 2
}
