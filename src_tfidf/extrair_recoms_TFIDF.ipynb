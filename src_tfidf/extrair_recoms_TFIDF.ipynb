{
 "cells": [
  {
   "cell_type": "code",
   "execution_count": 3,
   "metadata": {},
   "outputs": [
    {
     "name": "stdout",
     "output_type": "stream",
     "text": [
      "Dados textuais carregados com sucesso \n",
      "\n"
     ]
    },
    {
     "name": "stderr",
     "output_type": "stream",
     "text": [
      "Gerando TF-IDF embeddings: 100%|██████████| 1/1 [00:01<00:00,  1.12s/it]\n"
     ]
    },
    {
     "name": "stdout",
     "output_type": "stream",
     "text": [
      "Shape da matriz TF-IDF: (29814, 102055)\n"
     ]
    },
    {
     "name": "stderr",
     "output_type": "stream",
     "text": [
      "Calculando similaridade do cosseno: 100%|██████████| 1/1 [00:59<00:00, 59.29s/it]"
     ]
    },
    {
     "name": "stdout",
     "output_type": "stream",
     "text": [
      "Shape da matriz de similaridade do cosseno: (29814, 29814)\n",
      "Embeddings TF-IDF gerados com sucesso!\n",
      "\n",
      "As recomendações mais similares ao item 'Biblia Vinho' são:\n",
      "\n",
      "                       Item Recomendado  Similaridade\n",
      "0  vinhos degustacao elaboracao servico      0.421910\n",
      "1                     degustacao vinhos      0.335945\n",
      "2                        conheca vinhos      0.304797\n",
      "3                         vale vinhedos      0.265986\n",
      "4                  guia essencial vinho      0.263211\n",
      "5                         vinhos comida      0.259843\n",
      "6                    novas regras vinho      0.242203\n",
      "7                     experiencia gosto      0.238462\n",
      "8                          vinho guerra      0.218795\n",
      "9                           porto vinho      0.197434\n",
      "None\n"
     ]
    },
    {
     "name": "stderr",
     "output_type": "stream",
     "text": [
      "\n"
     ]
    }
   ],
   "source": [
    "##notebook p/ extrair recomends usando TFIDF + COS_SIM\n",
    "##para implemenatr em prod, melhpr solucao é guardar vetores de embds gerados em um chromadb com\n",
    "##atualizacao incremental sempre que novos itens entrarem na base\n",
    "\n",
    "from TFIDF_recomend_construct import TfidfRecommender\n",
    "import os\n",
    "from dotenv import load_dotenv\n",
    "import pandas as pd\n",
    "\n",
    "load_dotenv()\n",
    "\n",
    "##Para o DB de cursos:\n",
    "#emb_cols = ['apresentacao', 'conteudo_programatico']\n",
    "\n",
    "##Para o DB de livros:\n",
    "emb_cols = ['description']\n",
    "\n",
    "rec = TfidfRecommender(\n",
    "    DB_USER = os.getenv(\"DB_USER\"),\n",
    "    DB_PASS=os.getenv(\"DB_PASS\"),\n",
    "    DB_NAME=os.getenv(\"DB_NAME\"),\n",
    "    DB_HOST=os.getenv(\"DB_HOST\"),\n",
    "    emb_cols=emb_cols,\n",
    "    id_col='isbn',\n",
    "    item_name_col='title'\n",
    "    #id_col= 'id_curso',\n",
    "    #item_name_col = 'nome_curso'\n",
    ")\n",
    "\n",
    "##carrego a tabela do DB (aqui colocar 'livros' ou 'cursos')\n",
    "rec.carrega_dados('livros')\n",
    "##aplico limpeza simples aos dados\n",
    "rec.gerar_embeddings()\n",
    "\n",
    "# recomendacoes:\n",
    "recomendacoes = rec.recomendar(\"9788500012952\", 10)\n",
    "\n",
    "print(recomendacoes)"
   ]
  },
  {
   "cell_type": "code",
   "execution_count": 5,
   "metadata": {},
   "outputs": [
    {
     "name": "stdout",
     "output_type": "stream",
     "text": [
      "As recomendações mais similares ao item 'Homem Rico Babilonia' são:\n",
      "\n",
      "                                    Item Recomendado  Similaridade\n",
      "0                             ontem nao vi babilonia      0.294387\n",
      "1                                          babilonia      0.282480\n",
      "2         perdidos babilonia (vol 2 sete maravilhas)      0.241638\n",
      "3  praticas prosperidades extraidas homem rico ba...      0.172307\n",
      "4                           queremos voce fique rico      0.131479\n",
      "5                                     selva dinheiro      0.128702\n",
      "6                          entender mundo financeiro      0.122983\n",
      "7                           preocupar menos dinheiro      0.121139\n",
      "8                             ciclo gestatorio homem      0.116712\n",
      "9                                           dinheiro      0.112722\n"
     ]
    }
   ],
   "source": [
    "rec.recomendar(\"9788500003042\", 10)"
   ]
  },
  {
   "cell_type": "code",
   "execution_count": 7,
   "metadata": {},
   "outputs": [
    {
     "name": "stdout",
     "output_type": "stream",
     "text": [
      "As recomendações mais similares ao item 'Livro Ouro Futebol' são:\n",
      "\n",
      "                              Item Recomendado  Similaridade\n",
      "0                                epoca futebol      0.356855\n",
      "1                                 nacoes campo      0.312640\n",
      "2                    escola brasileira futebol      0.309558\n",
      "3                    escola brasileira futebol      0.295942\n",
      "4                    futebol cultura sociedade      0.282846\n",
      "5                        futebol: brasil campo      0.247098\n",
      "6                        invencao pais futebol      0.245901\n",
      "7         guia politicamente incorreto futebol      0.233299\n",
      "8  relacoes etnico raciais futebol rio janeiro      0.231641\n",
      "9                                   banho bola      0.230044\n"
     ]
    }
   ],
   "source": [
    "rec.recomendar(\"9788500010361\",10)"
   ]
  }
 ],
 "metadata": {
  "kernelspec": {
   "display_name": "Python 3",
   "language": "python",
   "name": "python3"
  },
  "language_info": {
   "codemirror_mode": {
    "name": "ipython",
    "version": 3
   },
   "file_extension": ".py",
   "mimetype": "text/x-python",
   "name": "python",
   "nbconvert_exporter": "python",
   "pygments_lexer": "ipython3",
   "version": "3.12.3"
  }
 },
 "nbformat": 4,
 "nbformat_minor": 2
}
