{
 "cells": [
  {
   "cell_type": "code",
   "execution_count": 1,
   "metadata": {},
   "outputs": [
    {
     "name": "stdout",
     "output_type": "stream",
     "text": [
      "Dados textuais carregados com sucesso \n",
      "\n"
     ]
    },
    {
     "name": "stderr",
     "output_type": "stream",
     "text": [
      "Gerando TF-IDF embeddings: 100%|██████████| 1/1 [00:00<00:00, 49.15it/s]\n",
      "Calculando similaridade do cosseno: 100%|██████████| 1/1 [00:00<00:00, 233.48it/s]\n",
      "Calculando distância Euclidiana: 100%|██████████| 1/1 [00:00<00:00, 187.51it/s]\n",
      "Calculando distância Manhattan: 100%|██████████| 1/1 [00:00<00:00, 34.37it/s]"
     ]
    },
    {
     "name": "stdout",
     "output_type": "stream",
     "text": [
      "Embeddings TF-IDF gerados com sucesso!\n",
      "\n",
      "As recomendações mais similares ao item 'Lei Diretrizes Orcamentarias Municipios' são:\n",
      "\n",
      "\n",
      " **Baseado em Similaridade do Cosseno:**\n",
      "                         Item Recomendado  Similaridade_Cosseno\n",
      "0                basico orcamento publico              0.192547\n",
      "1  instrumentos planejamento: ppa ldo loa              0.187056\n",
      "2          novo regime fiscal teto gastos              0.177534\n",
      "\n",
      " Baseado em Distância Euclidiana:\n",
      "                         Item Recomendado  Distancia_Euclidiana\n",
      "0                basico orcamento publico              1.270790\n",
      "1  instrumentos planejamento: ppa ldo loa              1.275103\n",
      "2          novo regime fiscal teto gastos              1.282549\n",
      "\n",
      " Baseado em Distância Manhattan:\n",
      "                                    Item Recomendado  Distancia_Manhattan\n",
      "0  fundamentos integridade publica: prevenindo co...             8.832705\n",
      "1                        producao videos: introducao             8.941345\n",
      "2                                tecnica legislativa             9.194122\n",
      "None\n"
     ]
    },
    {
     "name": "stderr",
     "output_type": "stream",
     "text": [
      "\n"
     ]
    }
   ],
   "source": [
    "##notebook p/ extrair recomends usando TFIDF + COS_SIM + Euclidean + Manhattan\n",
    "##para implemenatr em prod, melhpr solucao é guardar vetores de embds gerados em um chromadb com\n",
    "##atualizacao incremental sempre que novos itens entrarem na base\n",
    "\n",
    "from TFIDF_recomend_construct import TfidfRecommender\n",
    "import os\n",
    "from dotenv import load_dotenv\n",
    "import pandas as pd\n",
    "\n",
    "load_dotenv()\n",
    "\n",
    "##Para o DB de cursos:\n",
    "emb_cols = ['apresentacao', 'conteudo_programatico']\n",
    "\n",
    "##Para o DB de livros:\n",
    "#emb_cols = ['description']\n",
    "\n",
    "rec = TfidfRecommender(\n",
    "    DB_USER = os.getenv(\"DB_USER\"),\n",
    "    DB_PASS=os.getenv(\"DB_PASS\"),\n",
    "    DB_NAME=os.getenv(\"DB_NAME\"),\n",
    "    DB_HOST=os.getenv(\"DB_HOST\"),\n",
    "    emb_cols=emb_cols,\n",
    "    #id_col='isbn',\n",
    "    #item_name_col='title'\n",
    "    id_col= 'id_curso',\n",
    "    item_name_col = 'nome_curso'\n",
    ")\n",
    "\n",
    "##carrego a tabela do DB (aqui colocar 'livros' ou 'cursos')\n",
    "rec.carrega_dados('cursos')\n",
    "##aplico limpeza simples aos dados\n",
    "rec.gerar_embeddings()\n",
    "\n",
    "# recomendacoes:\n",
    "recomendacoes = rec.recomendar(113, 3)\n",
    "#recomendacoes = rec.recomendar(9788500010361, 5)\n",
    "\n",
    "print(recomendacoes)"
   ]
  },
  {
   "cell_type": "code",
   "execution_count": 3,
   "metadata": {},
   "outputs": [
    {
     "name": "stdout",
     "output_type": "stream",
     "text": [
      "As recomendações mais similares ao item 'Livro Ouro Futebol' são:\n",
      "\n",
      "\n",
      "📌 **Baseado em Similaridade do Cosseno:**\n",
      "                              Item Recomendado  Similaridade_Cosseno\n",
      "0                                epoca futebol              0.356855\n",
      "1                                 nacoes campo              0.312640\n",
      "2                    escola brasileira futebol              0.309558\n",
      "3                    escola brasileira futebol              0.295942\n",
      "4                    futebol cultura sociedade              0.282846\n",
      "5                        futebol: brasil campo              0.247098\n",
      "6                        invencao pais futebol              0.245901\n",
      "7         guia politicamente incorreto futebol              0.233299\n",
      "8  relacoes etnico raciais futebol rio janeiro              0.231641\n",
      "9                                   banho bola              0.230044\n",
      "\n",
      "📌 **Baseado em Distância Euclidiana:**\n",
      "                              Item Recomendado  Distancia_Euclidiana\n",
      "0                                epoca futebol             -1.134148\n",
      "1                                 nacoes campo             -1.172485\n",
      "2                    escola brasileira futebol             -1.175110\n",
      "3                    escola brasileira futebol             -1.186640\n",
      "4                    futebol cultura sociedade             -1.197626\n",
      "5                        futebol: brasil campo             -1.227112\n",
      "6                        invencao pais futebol             -1.228087\n",
      "7         guia politicamente incorreto futebol             -1.238306\n",
      "8  relacoes etnico raciais futebol rio janeiro             -1.239644\n",
      "9                                   banho bola             -1.240932\n"
     ]
    },
    {
     "data": {
      "text/plain": [
       "(                              Item Recomendado  Similaridade_Cosseno\n",
       " 0                                epoca futebol              0.356855\n",
       " 1                                 nacoes campo              0.312640\n",
       " 2                    escola brasileira futebol              0.309558\n",
       " 3                    escola brasileira futebol              0.295942\n",
       " 4                    futebol cultura sociedade              0.282846\n",
       " 5                        futebol: brasil campo              0.247098\n",
       " 6                        invencao pais futebol              0.245901\n",
       " 7         guia politicamente incorreto futebol              0.233299\n",
       " 8  relacoes etnico raciais futebol rio janeiro              0.231641\n",
       " 9                                   banho bola              0.230044,\n",
       "                               Item Recomendado  Distancia_Euclidiana\n",
       " 0                                epoca futebol             -1.134148\n",
       " 1                                 nacoes campo             -1.172485\n",
       " 2                    escola brasileira futebol             -1.175110\n",
       " 3                    escola brasileira futebol             -1.186640\n",
       " 4                    futebol cultura sociedade             -1.197626\n",
       " 5                        futebol: brasil campo             -1.227112\n",
       " 6                        invencao pais futebol             -1.228087\n",
       " 7         guia politicamente incorreto futebol             -1.238306\n",
       " 8  relacoes etnico raciais futebol rio janeiro             -1.239644\n",
       " 9                                   banho bola             -1.240932)"
      ]
     },
     "execution_count": 3,
     "metadata": {},
     "output_type": "execute_result"
    }
   ],
   "source": [
    "recomendacoes2 = rec.recomendar(9788500010361, 10)\n",
    "\n",
    "recomendacoes2"
   ]
  },
  {
   "cell_type": "code",
   "execution_count": 4,
   "metadata": {},
   "outputs": [
    {
     "name": "stdout",
     "output_type": "stream",
     "text": [
      "As recomendações mais similares ao item 'Homem Rico Babilonia' usando euclidean são:\n",
      "\n",
      "                                    Item Recomendado  Similaridade\n",
      "0                             ontem nao vi babilonia     -1.187950\n",
      "1                                          babilonia     -1.197932\n",
      "2         perdidos babilonia (vol 2 sete maravilhas)     -1.231554\n",
      "3  praticas prosperidades extraidas homem rico ba...     -1.286618\n",
      "4                           queremos voce fique rico     -1.317969\n",
      "5                                     selva dinheiro     -1.320074\n",
      "6                          entender mundo financeiro     -1.324399\n",
      "7                           preocupar menos dinheiro     -1.325791\n",
      "8                             ciclo gestatorio homem     -1.329126\n",
      "9                                           dinheiro     -1.332124\n",
      "None\n"
     ]
    }
   ],
   "source": [
    "recomendacoes3 = rec.recomendar(9788500003042, 10, \"euclidean\")\n",
    "\n",
    "print(recomendacoes3)"
   ]
  },
  {
   "cell_type": "code",
   "execution_count": 5,
   "metadata": {},
   "outputs": [
    {
     "name": "stdout",
     "output_type": "stream",
     "text": [
      "As recomendações mais similares ao item 'Homem Rico Babilonia' são:\n",
      "\n",
      "                                    Item Recomendado  Similaridade\n",
      "0                             ontem nao vi babilonia      0.294387\n",
      "1                                          babilonia      0.282480\n",
      "2         perdidos babilonia (vol 2 sete maravilhas)      0.241638\n",
      "3  praticas prosperidades extraidas homem rico ba...      0.172307\n",
      "4                           queremos voce fique rico      0.131479\n",
      "5                                     selva dinheiro      0.128702\n",
      "6                          entender mundo financeiro      0.122983\n",
      "7                           preocupar menos dinheiro      0.121139\n",
      "8                             ciclo gestatorio homem      0.116712\n",
      "9                                           dinheiro      0.112722\n"
     ]
    }
   ],
   "source": [
    "rec.recomendar(\"9788500003042\", 10)"
   ]
  },
  {
   "cell_type": "code",
   "execution_count": 7,
   "metadata": {},
   "outputs": [
    {
     "name": "stdout",
     "output_type": "stream",
     "text": [
      "As recomendações mais similares ao item 'Livro Ouro Futebol' são:\n",
      "\n",
      "                              Item Recomendado  Similaridade\n",
      "0                                epoca futebol      0.356855\n",
      "1                                 nacoes campo      0.312640\n",
      "2                    escola brasileira futebol      0.309558\n",
      "3                    escola brasileira futebol      0.295942\n",
      "4                    futebol cultura sociedade      0.282846\n",
      "5                        futebol: brasil campo      0.247098\n",
      "6                        invencao pais futebol      0.245901\n",
      "7         guia politicamente incorreto futebol      0.233299\n",
      "8  relacoes etnico raciais futebol rio janeiro      0.231641\n",
      "9                                   banho bola      0.230044\n"
     ]
    }
   ],
   "source": [
    "rec.recomendar(\"9788500010361\",10)"
   ]
  }
 ],
 "metadata": {
  "kernelspec": {
   "display_name": "3.12.3",
   "language": "python",
   "name": "python3"
  },
  "language_info": {
   "codemirror_mode": {
    "name": "ipython",
    "version": 3
   },
   "file_extension": ".py",
   "mimetype": "text/x-python",
   "name": "python",
   "nbconvert_exporter": "python",
   "pygments_lexer": "ipython3",
   "version": "3.12.3"
  }
 },
 "nbformat": 4,
 "nbformat_minor": 2
}
