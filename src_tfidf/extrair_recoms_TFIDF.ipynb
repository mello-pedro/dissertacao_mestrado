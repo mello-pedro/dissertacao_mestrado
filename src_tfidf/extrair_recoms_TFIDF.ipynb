{
 "cells": [
  {
   "cell_type": "code",
   "execution_count": 3,
   "metadata": {},
   "outputs": [
    {
     "name": "stdout",
     "output_type": "stream",
     "text": [
      "Dados textuais carregados com sucesso \n",
      "\n"
     ]
    },
    {
     "name": "stderr",
     "output_type": "stream",
     "text": [
      "Gerando TF-IDF embeddings: 100%|██████████| 1/1 [00:00<00:00, 53.43it/s]\n"
     ]
    },
    {
     "name": "stdout",
     "output_type": "stream",
     "text": [
      "Shape da matriz TF-IDF: (611, 6903)\n",
      "🔍 Trecho da matriz TF-IDF:\n",
      "<Compressed Sparse Row sparse matrix of dtype 'float64'\n",
      "\twith 28820 stored elements and shape (611, 6903)>\n",
      "  Coords\tValues\n",
      "  (0, 1816)\t0.04145501119534827\n",
      "  (0, 4721)\t0.08485186073956455\n",
      "  (0, 4642)\t0.072187560578817\n",
      "  (0, 6843)\t0.03308700442206825\n",
      "  (0, 1487)\t0.052115119726155235\n",
      "  (0, 4778)\t0.0695349802868132\n",
      "  (0, 2003)\t0.49619927709890194\n",
      "  (0, 6421)\t0.6366208022233709\n",
      "  (0, 501)\t0.18339556195710255\n",
      "  (0, 2336)\t0.25613429012461864\n",
      "  (0, 1997)\t0.05896103996514195\n",
      "  (0, 54)\t0.08077486671573339\n",
      "  (0, 2437)\t0.06516408089536711\n",
      "  (0, 4525)\t0.0604004235651056\n",
      "  (0, 555)\t0.07462727567037011\n",
      "  (0, 1398)\t0.043480295427114186\n",
      "  (0, 1061)\t0.07276763225254734\n",
      "  (0, 5263)\t0.047439031931052235\n",
      "  (0, 2762)\t0.0901080202083979\n",
      "  (0, 125)\t0.19072835935446242\n",
      "  (0, 2279)\t0.24568952244361442\n",
      "  (0, 6330)\t0.06904773213045967\n",
      "  (0, 2916)\t0.057885981485791396\n",
      "  (0, 5038)\t0.11543662052989298\n",
      "  (0, 6691)\t0.08171203229120723\n",
      "  :\t:\n",
      "  (610, 5349)\t0.08731449622876987\n",
      "  (610, 1907)\t0.15121019512304662\n",
      "  (610, 1446)\t0.23320623918394945\n",
      "  (610, 1243)\t0.08731449622876987\n",
      "  (610, 3553)\t0.08333881750556595\n",
      "  (610, 5473)\t0.08731449622876987\n",
      "  (610, 1505)\t0.08333881750556595\n",
      "  (610, 5537)\t0.08731449622876987\n",
      "  (610, 3682)\t0.09291790067301933\n",
      "  (610, 4584)\t0.09291790067301933\n",
      "  (610, 6699)\t0.09291790067301933\n",
      "  (610, 5987)\t0.09291790067301933\n",
      "  (610, 738)\t0.09291790067301933\n",
      "  (610, 2694)\t0.09291790067301933\n",
      "  (610, 5705)\t0.09291790067301933\n",
      "  (610, 2698)\t0.09291790067301933\n",
      "  (610, 2924)\t0.09291790067301933\n",
      "  (610, 2160)\t0.09291790067301933\n",
      "  (610, 2620)\t0.09291790067301933\n",
      "  (610, 1169)\t0.09291790067301933\n",
      "  (610, 965)\t0.18583580134603866\n",
      "  (610, 148)\t0.09291790067301933\n",
      "  (610, 1447)\t0.09291790067301933\n",
      "  (610, 1865)\t0.09291790067301933\n",
      "  (610, 1200)\t0.09291790067301933\n"
     ]
    },
    {
     "name": "stderr",
     "output_type": "stream",
     "text": [
      "Calculando similaridade do cosseno: 100%|██████████| 1/1 [00:00<00:00, 257.81it/s]"
     ]
    },
    {
     "name": "stdout",
     "output_type": "stream",
     "text": [
      "Shape da matriz de similaridade do cosseno: (611, 611)\n",
      "🔍 Trecho da matriz de similaridade do cosseno:\n",
      "[[1.         0.00400709 0.01661135 ... 0.00469276 0.01810717 0.01683766]\n",
      " [0.00400709 1.         0.00460687 ... 0.04462896 0.00544281 0.00777941]\n",
      " [0.01661135 0.00460687 1.         ... 0.00521852 0.03153023 0.06075217]\n",
      " ...\n",
      " [0.00469276 0.04462896 0.00521852 ... 1.         0.00281478 0.06879112]\n",
      " [0.01810717 0.00544281 0.03153023 ... 0.00281478 1.         0.00853075]\n",
      " [0.01683766 0.00777941 0.06075217 ... 0.06879112 0.00853075 1.        ]]\n",
      "Embeddings TF-IDF gerados com sucesso!\n",
      "\n",
      "As recomendações mais similares ao item 'Lei Diretrizes Orcamentarias Municipios' são:\n",
      "\n",
      "                         Item Recomendado  Similaridade\n",
      "0                basico orcamento publico      0.192547\n",
      "1  instrumentos planejamento: ppa ldo loa      0.187056\n",
      "2          novo regime fiscal teto gastos      0.177534\n",
      "None\n"
     ]
    },
    {
     "name": "stderr",
     "output_type": "stream",
     "text": [
      "\n"
     ]
    }
   ],
   "source": [
    "##notebook p/ extrair recomends usando TFIDF + COS_SIM\n",
    "##para implemenatr em prod, melhpr solucao é guardar vetores de embds gerados em um chromadb com\n",
    "##atualizacao incremental sempre que novos itens entrarem na base\n",
    "\n",
    "from TFIDF_recomend_construct import TfidfRecommender\n",
    "import os\n",
    "from dotenv import load_dotenv\n",
    "import pandas as pd\n",
    "\n",
    "load_dotenv()\n",
    "\n",
    "##Para o DB de cursos:\n",
    "emb_cols = ['apresentacao', 'conteudo_programatico']\n",
    "\n",
    "##Para o DB de livros:\n",
    "#emb_cols = ['description']\n",
    "\n",
    "rec = TfidfRecommender(\n",
    "    DB_USER = os.getenv(\"DB_USER\"),\n",
    "    DB_PASS=os.getenv(\"DB_PASS\"),\n",
    "    DB_NAME=os.getenv(\"DB_NAME\"),\n",
    "    DB_HOST=os.getenv(\"DB_HOST\"),\n",
    "    emb_cols=emb_cols,\n",
    "    #id_col='isbn',\n",
    "    #item_name_col='title'\n",
    "    id_col= 'id_curso',\n",
    "    item_name_col = 'nome_curso'\n",
    ")\n",
    "\n",
    "##carrego a tabela do DB (aqui colocar 'livros' ou 'cursos')\n",
    "rec.carrega_dados('cursos')\n",
    "##aplico limpeza simples aos dados\n",
    "rec.gerar_embeddings()\n",
    "\n",
    "# recomendacoes:\n",
    "recomendacoes = rec.recomendar(113, 3)\n",
    "\n",
    "print(recomendacoes)"
   ]
  },
  {
   "cell_type": "code",
   "execution_count": 5,
   "metadata": {},
   "outputs": [
    {
     "name": "stdout",
     "output_type": "stream",
     "text": [
      "As recomendações mais similares ao item 'Homem Rico Babilonia' são:\n",
      "\n",
      "                                    Item Recomendado  Similaridade\n",
      "0                             ontem nao vi babilonia      0.294387\n",
      "1                                          babilonia      0.282480\n",
      "2         perdidos babilonia (vol 2 sete maravilhas)      0.241638\n",
      "3  praticas prosperidades extraidas homem rico ba...      0.172307\n",
      "4                           queremos voce fique rico      0.131479\n",
      "5                                     selva dinheiro      0.128702\n",
      "6                          entender mundo financeiro      0.122983\n",
      "7                           preocupar menos dinheiro      0.121139\n",
      "8                             ciclo gestatorio homem      0.116712\n",
      "9                                           dinheiro      0.112722\n"
     ]
    }
   ],
   "source": [
    "rec.recomendar(\"9788500003042\", 10)"
   ]
  },
  {
   "cell_type": "code",
   "execution_count": 7,
   "metadata": {},
   "outputs": [
    {
     "name": "stdout",
     "output_type": "stream",
     "text": [
      "As recomendações mais similares ao item 'Livro Ouro Futebol' são:\n",
      "\n",
      "                              Item Recomendado  Similaridade\n",
      "0                                epoca futebol      0.356855\n",
      "1                                 nacoes campo      0.312640\n",
      "2                    escola brasileira futebol      0.309558\n",
      "3                    escola brasileira futebol      0.295942\n",
      "4                    futebol cultura sociedade      0.282846\n",
      "5                        futebol: brasil campo      0.247098\n",
      "6                        invencao pais futebol      0.245901\n",
      "7         guia politicamente incorreto futebol      0.233299\n",
      "8  relacoes etnico raciais futebol rio janeiro      0.231641\n",
      "9                                   banho bola      0.230044\n"
     ]
    }
   ],
   "source": [
    "rec.recomendar(\"9788500010361\",10)"
   ]
  }
 ],
 "metadata": {
  "kernelspec": {
   "display_name": "3.12.3",
   "language": "python",
   "name": "python3"
  },
  "language_info": {
   "codemirror_mode": {
    "name": "ipython",
    "version": 3
   },
   "file_extension": ".py",
   "mimetype": "text/x-python",
   "name": "python",
   "nbconvert_exporter": "python",
   "pygments_lexer": "ipython3",
   "version": "3.12.3"
  }
 },
 "nbformat": 4,
 "nbformat_minor": 2
}
