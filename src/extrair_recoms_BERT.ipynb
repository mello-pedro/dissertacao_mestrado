{
 "cells": [
  {
   "cell_type": "code",
   "execution_count": 1,
   "metadata": {},
   "outputs": [
    {
     "name": "stderr",
     "output_type": "stream",
     "text": [
      "/Users/pedroh.mello/.pyenv/versions/3.12.3/lib/python3.12/site-packages/sentence_transformers/cross_encoder/CrossEncoder.py:13: TqdmWarning: IProgress not found. Please update jupyter and ipywidgets. See https://ipywidgets.readthedocs.io/en/stable/user_install.html\n",
      "  from tqdm.autonotebook import tqdm, trange\n"
     ]
    },
    {
     "name": "stdout",
     "output_type": "stream",
     "text": [
      "Dados textuais carregados com sucesso \n",
      "\n",
      "Dados limpos, padronizados e texto compilado em uma única coluna.\n",
      "\n"
     ]
    },
    {
     "name": "stderr",
     "output_type": "stream",
     "text": [
      "Processando Embeddings: 100%|██████████| 13/13 [00:04<00:00,  2.92it/s]"
     ]
    },
    {
     "name": "stdout",
     "output_type": "stream",
     "text": [
      "Vetores de representação textual gerados com sucesso pelo PyTorch!\n",
      "\n",
      "\n",
      "As recomendações mais similares ao item 'Lei De Diretrizes Orçamentárias Para Municípios' são:\n",
      "\n"
     ]
    },
    {
     "name": "stderr",
     "output_type": "stream",
     "text": [
      "\n"
     ]
    },
    {
     "data": {
      "text/html": [
       "<div>\n",
       "<style scoped>\n",
       "    .dataframe tbody tr th:only-of-type {\n",
       "        vertical-align: middle;\n",
       "    }\n",
       "\n",
       "    .dataframe tbody tr th {\n",
       "        vertical-align: top;\n",
       "    }\n",
       "\n",
       "    .dataframe thead th {\n",
       "        text-align: right;\n",
       "    }\n",
       "</style>\n",
       "<table border=\"1\" class=\"dataframe\">\n",
       "  <thead>\n",
       "    <tr style=\"text-align: right;\">\n",
       "      <th></th>\n",
       "      <th>Item Recomendado</th>\n",
       "      <th>Sim_Coss</th>\n",
       "    </tr>\n",
       "  </thead>\n",
       "  <tbody>\n",
       "    <tr>\n",
       "      <th>1</th>\n",
       "      <td>Básico em Orçamento Público</td>\n",
       "      <td>0.829610</td>\n",
       "    </tr>\n",
       "    <tr>\n",
       "      <th>2</th>\n",
       "      <td>Gestão Orçamentária e Financeira</td>\n",
       "      <td>0.767746</td>\n",
       "    </tr>\n",
       "    <tr>\n",
       "      <th>3</th>\n",
       "      <td>Gestão Fiscal Municipal</td>\n",
       "      <td>0.766467</td>\n",
       "    </tr>\n",
       "  </tbody>\n",
       "</table>\n",
       "</div>"
      ],
      "text/plain": [
       "                   Item Recomendado  Sim_Coss\n",
       "1       Básico em Orçamento Público  0.829610\n",
       "2  Gestão Orçamentária e Financeira  0.767746\n",
       "3           Gestão Fiscal Municipal  0.766467"
      ]
     },
     "execution_count": 1,
     "metadata": {},
     "output_type": "execute_result"
    }
   ],
   "source": [
    "##notebook p/ extrair recomends do modlo sentence-transformers/paraphrase-multilingual-MiniLM-L12-v2\n",
    "##melhor rodar em noteboook pq kernel guarda em cache os embeddings\n",
    "##para implemenatr em prod, melhpr solucao é guardar vetores de embds gerados em um chromadb com\n",
    "##atualizacao incremental sempre que novos itens entrarem na base\n",
    "\n",
    "from BERT_recomend_construct import Recommender\n",
    "import os\n",
    "from dotenv import load_dotenv\n",
    "import pandas as pd\n",
    "\n",
    "\n",
    "load_dotenv()\n",
    "\n",
    "model = 'sentence-transformers/paraphrase-multilingual-MiniLM-L12-v2'\n",
    "##Para o DB de cursos:\n",
    "emb_cols = ['apresentacao', 'conteudo_programatico']\n",
    "\n",
    "##Para o DB de livros:\n",
    "#emb_cols = ['description']\n",
    "\n",
    "recomender = Recommender(\n",
    "    DB_USER = os.getenv(\"DB_USER\"),\n",
    "    DB_PASS=os.getenv(\"DB_PASS\"),\n",
    "    DB_NAME=os.getenv(\"DB_NAME\"),\n",
    "    DB_HOST=os.getenv(\"DB_HOST\"),\n",
    "    model_name=model,\n",
    "    emb_cols=emb_cols,\n",
    "    # id_col='isbn',\n",
    "    # item_name_col='title'\n",
    "    id_col= 'id_curso',\n",
    "    item_name_col = 'nome_curso'\n",
    ")\n",
    "\n",
    "##carrego a tabela do DB (aqui colocar livros ou cursos)\n",
    "recomender.carrega_dados('cursos')\n",
    "##aplico limpeza simples aos dados\n",
    "recomender.limpa_dados()\n",
    "##extraio os embeddings\n",
    "embeddings = recomender.embeddings_extract()\n",
    "\n",
    "# recomendacoes:(homem mais rico babi)\n",
    "#recomendacoes = recomender.recomendar_itens(\"9788500003042\", 10)\n",
    "recomendacoes = recomender.recomendar_itens(113, 3)\n",
    "recomendacoes\n"
   ]
  },
  {
   "cell_type": "code",
   "execution_count": 3,
   "metadata": {},
   "outputs": [
    {
     "name": "stdout",
     "output_type": "stream",
     "text": [
      "As recomendações mais similares ao item 'Conceitos Essenciais Sobre Patologias Em Estruturas De Concreto' são:\n",
      "\n"
     ]
    },
    {
     "data": {
      "text/html": [
       "<div>\n",
       "<style scoped>\n",
       "    .dataframe tbody tr th:only-of-type {\n",
       "        vertical-align: middle;\n",
       "    }\n",
       "\n",
       "    .dataframe tbody tr th {\n",
       "        vertical-align: top;\n",
       "    }\n",
       "\n",
       "    .dataframe thead th {\n",
       "        text-align: right;\n",
       "    }\n",
       "</style>\n",
       "<table border=\"1\" class=\"dataframe\">\n",
       "  <thead>\n",
       "    <tr style=\"text-align: right;\">\n",
       "      <th></th>\n",
       "      <th>Item Recomendado</th>\n",
       "      <th>Sim_Coss</th>\n",
       "    </tr>\n",
       "  </thead>\n",
       "  <tbody>\n",
       "    <tr>\n",
       "      <th>1</th>\n",
       "      <td>Reconhecimento de Riscos Químicos nos Ambiente...</td>\n",
       "      <td>0.676298</td>\n",
       "    </tr>\n",
       "    <tr>\n",
       "      <th>2</th>\n",
       "      <td>Relatório de Segurança de Barragens: o que é e...</td>\n",
       "      <td>0.607058</td>\n",
       "    </tr>\n",
       "    <tr>\n",
       "      <th>3</th>\n",
       "      <td>Conceitos Básicos de Hidrologia e Drenagem par...</td>\n",
       "      <td>0.600677</td>\n",
       "    </tr>\n",
       "  </tbody>\n",
       "</table>\n",
       "</div>"
      ],
      "text/plain": [
       "                                    Item Recomendado  Sim_Coss\n",
       "1  Reconhecimento de Riscos Químicos nos Ambiente...  0.676298\n",
       "2  Relatório de Segurança de Barragens: o que é e...  0.607058\n",
       "3  Conceitos Básicos de Hidrologia e Drenagem par...  0.600677"
      ]
     },
     "execution_count": 3,
     "metadata": {},
     "output_type": "execute_result"
    }
   ],
   "source": [
    "recomendacoes2 = recomender.recomendar_itens(889, 3)\n",
    "\n",
    "recomendacoes2"
   ]
  },
  {
   "cell_type": "code",
   "execution_count": null,
   "metadata": {},
   "outputs": [
    {
     "name": "stdout",
     "output_type": "stream",
     "text": [
      "ID 9788501038012 não encontrado na base de dados.\n",
      "None\n"
     ]
    }
   ],
   "source": [
    "# recomendacoes:\n",
    "recomendacoes2 = recomender.recomendar_itens(\"9788501038012\", 10)\n",
    "print(recomendacoes2)"
   ]
  },
  {
   "cell_type": "code",
   "execution_count": 6,
   "metadata": {},
   "outputs": [
    {
     "name": "stdout",
     "output_type": "stream",
     "text": [
      "As recomendações mais similares ao item 'Etapas E Procedimentos Do Pnld' são:\n",
      "\n"
     ]
    },
    {
     "data": {
      "text/html": [
       "<div>\n",
       "<style scoped>\n",
       "    .dataframe tbody tr th:only-of-type {\n",
       "        vertical-align: middle;\n",
       "    }\n",
       "\n",
       "    .dataframe tbody tr th {\n",
       "        vertical-align: top;\n",
       "    }\n",
       "\n",
       "    .dataframe thead th {\n",
       "        text-align: right;\n",
       "    }\n",
       "</style>\n",
       "<table border=\"1\" class=\"dataframe\">\n",
       "  <thead>\n",
       "    <tr style=\"text-align: right;\">\n",
       "      <th></th>\n",
       "      <th>Item Recomendado</th>\n",
       "      <th>Sim_Coss</th>\n",
       "    </tr>\n",
       "  </thead>\n",
       "  <tbody>\n",
       "    <tr>\n",
       "      <th>1</th>\n",
       "      <td>A importância do PNLD</td>\n",
       "      <td>0.840634</td>\n",
       "    </tr>\n",
       "    <tr>\n",
       "      <th>2</th>\n",
       "      <td>PDCA Aplicado à Educação Básica</td>\n",
       "      <td>0.803201</td>\n",
       "    </tr>\n",
       "    <tr>\n",
       "      <th>3</th>\n",
       "      <td>Desenho Instrucional para Soluções de Capacita...</td>\n",
       "      <td>0.769333</td>\n",
       "    </tr>\n",
       "  </tbody>\n",
       "</table>\n",
       "</div>"
      ],
      "text/plain": [
       "                                    Item Recomendado  Sim_Coss\n",
       "1                              A importância do PNLD  0.840634\n",
       "2                    PDCA Aplicado à Educação Básica  0.803201\n",
       "3  Desenho Instrucional para Soluções de Capacita...  0.769333"
      ]
     },
     "execution_count": 6,
     "metadata": {},
     "output_type": "execute_result"
    }
   ],
   "source": [
    "recomendacoes3 = recomender.recomendar_itens(390, 3)\n",
    "\n",
    "recomendacoes3"
   ]
  },
  {
   "cell_type": "code",
   "execution_count": 7,
   "metadata": {},
   "outputs": [
    {
     "name": "stdout",
     "output_type": "stream",
     "text": [
      "As recomendações mais similares ao item 'S2Id - M2 - Usuário Federal - Solicitação De Recursos Para Ações De Resposta' são:\n",
      "\n"
     ]
    },
    {
     "data": {
      "text/html": [
       "<div>\n",
       "<style scoped>\n",
       "    .dataframe tbody tr th:only-of-type {\n",
       "        vertical-align: middle;\n",
       "    }\n",
       "\n",
       "    .dataframe tbody tr th {\n",
       "        vertical-align: top;\n",
       "    }\n",
       "\n",
       "    .dataframe thead th {\n",
       "        text-align: right;\n",
       "    }\n",
       "</style>\n",
       "<table border=\"1\" class=\"dataframe\">\n",
       "  <thead>\n",
       "    <tr style=\"text-align: right;\">\n",
       "      <th></th>\n",
       "      <th>Item Recomendado</th>\n",
       "      <th>Sim_Coss</th>\n",
       "    </tr>\n",
       "  </thead>\n",
       "  <tbody>\n",
       "    <tr>\n",
       "      <th>1</th>\n",
       "      <td>S2ID - M2 - Usuário Federal - Liberação de Rec...</td>\n",
       "      <td>0.936987</td>\n",
       "    </tr>\n",
       "    <tr>\n",
       "      <th>2</th>\n",
       "      <td>S2ID - M2 - Usuário Federal - Execução das Açõ...</td>\n",
       "      <td>0.866323</td>\n",
       "    </tr>\n",
       "    <tr>\n",
       "      <th>3</th>\n",
       "      <td>S2ID - M2 - Usuário Estadual - Prestação de Co...</td>\n",
       "      <td>0.849901</td>\n",
       "    </tr>\n",
       "  </tbody>\n",
       "</table>\n",
       "</div>"
      ],
      "text/plain": [
       "                                    Item Recomendado  Sim_Coss\n",
       "1  S2ID - M2 - Usuário Federal - Liberação de Rec...  0.936987\n",
       "2  S2ID - M2 - Usuário Federal - Execução das Açõ...  0.866323\n",
       "3  S2ID - M2 - Usuário Estadual - Prestação de Co...  0.849901"
      ]
     },
     "execution_count": 7,
     "metadata": {},
     "output_type": "execute_result"
    }
   ],
   "source": [
    "recomendacoes4 = recomender.recomendar_itens(753, 3)\n",
    "\n",
    "recomendacoes4"
   ]
  },
  {
   "cell_type": "code",
   "execution_count": 10,
   "metadata": {},
   "outputs": [
    {
     "name": "stdout",
     "output_type": "stream",
     "text": [
      "As recomendações mais similares ao item 'Aprendendo Com Python' são:\n",
      "\n"
     ]
    },
    {
     "data": {
      "text/html": [
       "<div>\n",
       "<style scoped>\n",
       "    .dataframe tbody tr th:only-of-type {\n",
       "        vertical-align: middle;\n",
       "    }\n",
       "\n",
       "    .dataframe tbody tr th {\n",
       "        vertical-align: top;\n",
       "    }\n",
       "\n",
       "    .dataframe thead th {\n",
       "        text-align: right;\n",
       "    }\n",
       "</style>\n",
       "<table border=\"1\" class=\"dataframe\">\n",
       "  <thead>\n",
       "    <tr style=\"text-align: right;\">\n",
       "      <th></th>\n",
       "      <th>Item Recomendado</th>\n",
       "      <th>Sim_Coss</th>\n",
       "    </tr>\n",
       "  </thead>\n",
       "  <tbody>\n",
       "    <tr>\n",
       "      <th>1</th>\n",
       "      <td>Learning with Python</td>\n",
       "      <td>0.916468</td>\n",
       "    </tr>\n",
       "    <tr>\n",
       "      <th>2</th>\n",
       "      <td>Introdução à Ciência de Dados - Conceitos e Fe...</td>\n",
       "      <td>0.533505</td>\n",
       "    </tr>\n",
       "    <tr>\n",
       "      <th>3</th>\n",
       "      <td>Introdução à Ciência de Dados - Descoberta de ...</td>\n",
       "      <td>0.512092</td>\n",
       "    </tr>\n",
       "  </tbody>\n",
       "</table>\n",
       "</div>"
      ],
      "text/plain": [
       "                                    Item Recomendado  Sim_Coss\n",
       "1                               Learning with Python  0.916468\n",
       "2  Introdução à Ciência de Dados - Conceitos e Fe...  0.533505\n",
       "3  Introdução à Ciência de Dados - Descoberta de ...  0.512092"
      ]
     },
     "execution_count": 10,
     "metadata": {},
     "output_type": "execute_result"
    }
   ],
   "source": [
    "recomendacoes5 = recomender.recomendar_itens(629, 3)\n",
    "\n",
    "recomendacoes5"
   ]
  },
  {
   "cell_type": "code",
   "execution_count": 11,
   "metadata": {},
   "outputs": [
    {
     "name": "stdout",
     "output_type": "stream",
     "text": [
      "As recomendações mais similares ao item 'Como Trabalhar Com Computadores E Dispositivos Móveis' são:\n",
      "\n"
     ]
    },
    {
     "data": {
      "text/html": [
       "<div>\n",
       "<style scoped>\n",
       "    .dataframe tbody tr th:only-of-type {\n",
       "        vertical-align: middle;\n",
       "    }\n",
       "\n",
       "    .dataframe tbody tr th {\n",
       "        vertical-align: top;\n",
       "    }\n",
       "\n",
       "    .dataframe thead th {\n",
       "        text-align: right;\n",
       "    }\n",
       "</style>\n",
       "<table border=\"1\" class=\"dataframe\">\n",
       "  <thead>\n",
       "    <tr style=\"text-align: right;\">\n",
       "      <th></th>\n",
       "      <th>Item Recomendado</th>\n",
       "      <th>Sim_Coss</th>\n",
       "    </tr>\n",
       "  </thead>\n",
       "  <tbody>\n",
       "    <tr>\n",
       "      <th>1</th>\n",
       "      <td>Como trabalhar e colaborar On-line</td>\n",
       "      <td>0.714734</td>\n",
       "    </tr>\n",
       "    <tr>\n",
       "      <th>2</th>\n",
       "      <td>Visão Geral da IA no Azure</td>\n",
       "      <td>0.701771</td>\n",
       "    </tr>\n",
       "    <tr>\n",
       "      <th>3</th>\n",
       "      <td>Otimização de trabalho com o Microsoft 365</td>\n",
       "      <td>0.689473</td>\n",
       "    </tr>\n",
       "  </tbody>\n",
       "</table>\n",
       "</div>"
      ],
      "text/plain": [
       "                             Item Recomendado  Sim_Coss\n",
       "1          Como trabalhar e colaborar On-line  0.714734\n",
       "2                  Visão Geral da IA no Azure  0.701771\n",
       "3  Otimização de trabalho com o Microsoft 365  0.689473"
      ]
     },
     "execution_count": 11,
     "metadata": {},
     "output_type": "execute_result"
    }
   ],
   "source": [
    "recomendacoes6 = recomender.recomendar_itens(1130, 3)\n",
    "\n",
    "recomendacoes6"
   ]
  },
  {
   "cell_type": "code",
   "execution_count": 12,
   "metadata": {},
   "outputs": [
    {
     "name": "stdout",
     "output_type": "stream",
     "text": [
      "As recomendações mais similares ao item 'Big Data Em Apoio À Tomada De Decisão' são:\n",
      "\n"
     ]
    },
    {
     "data": {
      "text/html": [
       "<div>\n",
       "<style scoped>\n",
       "    .dataframe tbody tr th:only-of-type {\n",
       "        vertical-align: middle;\n",
       "    }\n",
       "\n",
       "    .dataframe tbody tr th {\n",
       "        vertical-align: top;\n",
       "    }\n",
       "\n",
       "    .dataframe thead th {\n",
       "        text-align: right;\n",
       "    }\n",
       "</style>\n",
       "<table border=\"1\" class=\"dataframe\">\n",
       "  <thead>\n",
       "    <tr style=\"text-align: right;\">\n",
       "      <th></th>\n",
       "      <th>Item Recomendado</th>\n",
       "      <th>Sim_Coss</th>\n",
       "    </tr>\n",
       "  </thead>\n",
       "  <tbody>\n",
       "    <tr>\n",
       "      <th>1</th>\n",
       "      <td>Análise de dados como suporte à tomada de decisão</td>\n",
       "      <td>0.759159</td>\n",
       "    </tr>\n",
       "    <tr>\n",
       "      <th>2</th>\n",
       "      <td>Introdução à Ciência de Dados - Tratamento de ...</td>\n",
       "      <td>0.695739</td>\n",
       "    </tr>\n",
       "    <tr>\n",
       "      <th>3</th>\n",
       "      <td>Governança de Dados</td>\n",
       "      <td>0.682540</td>\n",
       "    </tr>\n",
       "  </tbody>\n",
       "</table>\n",
       "</div>"
      ],
      "text/plain": [
       "                                    Item Recomendado  Sim_Coss\n",
       "1  Análise de dados como suporte à tomada de decisão  0.759159\n",
       "2  Introdução à Ciência de Dados - Tratamento de ...  0.695739\n",
       "3                                Governança de Dados  0.682540"
      ]
     },
     "execution_count": 12,
     "metadata": {},
     "output_type": "execute_result"
    }
   ],
   "source": [
    "recomendacoes7 = recomender.recomendar_itens(800, 3)\n",
    "\n",
    "recomendacoes7"
   ]
  },
  {
   "cell_type": "code",
   "execution_count": 13,
   "metadata": {},
   "outputs": [
    {
     "name": "stdout",
     "output_type": "stream",
     "text": [
      "As recomendações mais similares ao item 'Nova Lei De Licitações: Visão Geral' são:\n",
      "\n"
     ]
    },
    {
     "data": {
      "text/html": [
       "<div>\n",
       "<style scoped>\n",
       "    .dataframe tbody tr th:only-of-type {\n",
       "        vertical-align: middle;\n",
       "    }\n",
       "\n",
       "    .dataframe tbody tr th {\n",
       "        vertical-align: top;\n",
       "    }\n",
       "\n",
       "    .dataframe thead th {\n",
       "        text-align: right;\n",
       "    }\n",
       "</style>\n",
       "<table border=\"1\" class=\"dataframe\">\n",
       "  <thead>\n",
       "    <tr style=\"text-align: right;\">\n",
       "      <th></th>\n",
       "      <th>Item Recomendado</th>\n",
       "      <th>Sim_Coss</th>\n",
       "    </tr>\n",
       "  </thead>\n",
       "  <tbody>\n",
       "    <tr>\n",
       "      <th>1</th>\n",
       "      <td>Nova Lei de Licitações: Gestão Contratual</td>\n",
       "      <td>0.858196</td>\n",
       "    </tr>\n",
       "    <tr>\n",
       "      <th>2</th>\n",
       "      <td>Nova Lei de Licitações: Sanções ao fornecedor</td>\n",
       "      <td>0.813717</td>\n",
       "    </tr>\n",
       "    <tr>\n",
       "      <th>3</th>\n",
       "      <td>Licitação por concorrência, concurso, leilão e...</td>\n",
       "      <td>0.798455</td>\n",
       "    </tr>\n",
       "  </tbody>\n",
       "</table>\n",
       "</div>"
      ],
      "text/plain": [
       "                                    Item Recomendado  Sim_Coss\n",
       "1          Nova Lei de Licitações: Gestão Contratual  0.858196\n",
       "2      Nova Lei de Licitações: Sanções ao fornecedor  0.813717\n",
       "3  Licitação por concorrência, concurso, leilão e...  0.798455"
      ]
     },
     "execution_count": 13,
     "metadata": {},
     "output_type": "execute_result"
    }
   ],
   "source": [
    "recomendacoes8 = recomender.recomendar_itens(486, 3)\n",
    "\n",
    "recomendacoes8"
   ]
  },
  {
   "cell_type": "code",
   "execution_count": 14,
   "metadata": {},
   "outputs": [
    {
     "name": "stdout",
     "output_type": "stream",
     "text": [
      "As recomendações mais similares ao item 'Estudo Técnico Preliminar Avançado Para Contratação De Soluções De Tic' são:\n",
      "\n"
     ]
    },
    {
     "data": {
      "text/html": [
       "<div>\n",
       "<style scoped>\n",
       "    .dataframe tbody tr th:only-of-type {\n",
       "        vertical-align: middle;\n",
       "    }\n",
       "\n",
       "    .dataframe tbody tr th {\n",
       "        vertical-align: top;\n",
       "    }\n",
       "\n",
       "    .dataframe thead th {\n",
       "        text-align: right;\n",
       "    }\n",
       "</style>\n",
       "<table border=\"1\" class=\"dataframe\">\n",
       "  <thead>\n",
       "    <tr style=\"text-align: right;\">\n",
       "      <th></th>\n",
       "      <th>Item Recomendado</th>\n",
       "      <th>Sim_Coss</th>\n",
       "    </tr>\n",
       "  </thead>\n",
       "  <tbody>\n",
       "    <tr>\n",
       "      <th>1</th>\n",
       "      <td>Termo de Referência ou Projeto Básico para a C...</td>\n",
       "      <td>0.813183</td>\n",
       "    </tr>\n",
       "    <tr>\n",
       "      <th>2</th>\n",
       "      <td>Contratações de Encomendas Tecnológicas</td>\n",
       "      <td>0.767884</td>\n",
       "    </tr>\n",
       "    <tr>\n",
       "      <th>3</th>\n",
       "      <td>Planejamento da Contratação de Soluções de TIC</td>\n",
       "      <td>0.723736</td>\n",
       "    </tr>\n",
       "  </tbody>\n",
       "</table>\n",
       "</div>"
      ],
      "text/plain": [
       "                                    Item Recomendado  Sim_Coss\n",
       "1  Termo de Referência ou Projeto Básico para a C...  0.813183\n",
       "2            Contratações de Encomendas Tecnológicas  0.767884\n",
       "3     Planejamento da Contratação de Soluções de TIC  0.723736"
      ]
     },
     "execution_count": 14,
     "metadata": {},
     "output_type": "execute_result"
    }
   ],
   "source": [
    "recomendacoes8 = recomender.recomendar_itens(410, 3)\n",
    "\n",
    "recomendacoes8"
   ]
  },
  {
   "cell_type": "code",
   "execution_count": 11,
   "metadata": {},
   "outputs": [
    {
     "name": "stdout",
     "output_type": "stream",
     "text": [
      "As recomendações mais similares ao item 'livro ouro futebol' são:\n",
      "\n",
      "             Item Recomendado  Sim_Coss\n",
      "0                  banho bola  0.707469\n",
      "1          futebol sol sombra  0.642247\n",
      "2           trocando pés mãos  0.638426\n",
      "3                país futebol  0.626037\n",
      "4           dando tratos bola  0.624570\n",
      "5               vencer morrer  0.600973\n",
      "6        90 minutos sabedoria  0.593519\n",
      "7  futebol, cultura sociedade  0.578816\n",
      "8       invenção país futebol  0.566663\n",
      "9                   jogo vida  0.562402\n"
     ]
    }
   ],
   "source": [
    "recomender.recomendar_itens(\"9788500010361\",10)"
   ]
  },
  {
   "cell_type": "code",
   "execution_count": 36,
   "metadata": {},
   "outputs": [
    {
     "data": {
      "text/plain": [
       "torch.Size([29814, 384])"
      ]
     },
     "execution_count": 36,
     "metadata": {},
     "output_type": "execute_result"
    }
   ],
   "source": [
    "embeddings.shape"
   ]
  },
  {
   "cell_type": "code",
   "execution_count": 35,
   "metadata": {},
   "outputs": [
    {
     "data": {
      "text/plain": [
       "tensor([-8.0443e-03,  1.1683e-01, -3.4714e-02,  2.4540e-01,  4.3900e-02,\n",
       "         4.2208e-02,  2.4497e-01,  1.3763e-01,  6.9532e-02,  9.3704e-02,\n",
       "         2.2520e-01,  1.6017e-01,  8.6985e-02,  7.5492e-02, -1.0668e-01,\n",
       "         1.6597e-01, -1.1095e-01,  6.5783e-02, -3.1311e-02,  1.0069e-01,\n",
       "        -1.1623e-01,  1.1052e-01,  3.0532e-01,  4.6286e-03, -3.4488e-01,\n",
       "        -5.1334e-02,  1.0477e-01, -1.2785e-01, -9.9736e-02, -1.2087e-01,\n",
       "         1.1447e-01, -7.9487e-02, -1.1510e-02,  1.7273e-01, -7.4933e-02,\n",
       "         1.4735e-01, -5.0829e-02,  1.2077e-01, -1.2804e-01, -7.2844e-02,\n",
       "        -1.3341e-01,  2.3904e-02, -1.5432e-02, -3.0863e-02,  6.0341e-02,\n",
       "         1.3858e-01, -9.0612e-03, -3.0270e-02,  9.9787e-02, -1.1922e-01,\n",
       "        -2.8243e-01, -3.3097e-02, -2.6117e-02, -4.7149e-02,  1.2167e-01,\n",
       "         8.2846e-02,  1.8885e-01, -4.5142e-02, -6.7050e-02,  3.4540e-01,\n",
       "         9.8576e-02,  2.7733e-02, -1.9730e-01, -3.5011e-03,  6.8074e-02,\n",
       "        -1.5803e-01, -5.4078e-02, -6.7673e-02,  1.0037e-01,  1.6704e-01,\n",
       "         2.2865e-01,  1.2057e-01, -2.6052e-02, -3.5176e-02,  1.4391e-01,\n",
       "         2.6524e-01, -3.0109e-02, -7.9258e-02,  1.0204e-01, -2.9810e-02,\n",
       "        -2.4887e-01,  1.7100e-02,  1.4966e-01,  2.1925e-01, -2.8955e-01,\n",
       "         1.1293e-02,  1.0015e-01,  7.1059e-02, -2.0242e-01, -1.0991e-01,\n",
       "        -1.7146e-01, -9.9251e-03,  3.3379e-01,  1.4208e-05,  3.2667e-01,\n",
       "         3.2092e-02, -1.1470e-01, -2.1171e-01, -1.3113e-01,  3.6634e-02,\n",
       "         1.1645e-01,  2.6532e-01,  1.3700e-01,  1.5464e-02,  2.2746e-01,\n",
       "        -6.9776e-02,  2.4138e-01, -1.8653e-01,  6.7681e-02, -3.8059e-02,\n",
       "        -1.3988e-01,  1.1967e-01,  9.5865e-02,  1.1638e-01, -2.3722e-02,\n",
       "        -8.3798e-02, -7.3258e-02,  1.5556e-02, -1.2139e-01,  2.3197e-01,\n",
       "         1.5857e-01, -1.8185e-01, -1.6689e-02, -1.8451e-01,  9.8963e-03,\n",
       "        -3.3254e-01, -1.2016e-02,  1.3435e-02,  1.2029e-01, -1.5390e-02,\n",
       "         3.0121e-01,  1.2265e-03,  2.2564e-01, -4.7522e-02,  1.2643e-02,\n",
       "        -8.4634e-02,  3.0638e-02,  5.2893e-01, -1.3937e-01, -2.6115e-01,\n",
       "        -1.5580e-02,  6.4958e-02, -1.6673e-01, -1.0632e-01, -9.3898e-02,\n",
       "         1.8178e-02, -9.5603e-02,  1.1052e-01,  1.8229e-02,  1.1283e-01,\n",
       "         1.8577e-01, -1.2114e-01, -2.5201e-03,  1.9230e-01, -1.0917e-01,\n",
       "         2.2279e-01,  1.7360e-01,  7.2035e-02,  2.9649e-02,  1.5462e-01,\n",
       "         2.2441e-02,  7.7883e-02, -9.4414e-02, -1.3030e-01,  1.0670e-01,\n",
       "         5.5649e-02, -7.1621e-02,  7.7199e-02, -1.4673e-01,  6.6805e-02,\n",
       "         7.2301e-02, -3.3551e-02, -1.4436e-01,  2.2548e-01, -7.2536e-02,\n",
       "        -1.7653e-01, -4.5487e-01,  7.2172e-02,  5.6263e-02,  1.8177e-01,\n",
       "         1.2051e-01, -8.5648e-02,  9.1238e-02, -1.3265e-01, -5.4870e-02,\n",
       "        -8.7736e-02,  2.3537e-01,  5.5473e-02,  2.8943e-02, -3.4314e-02,\n",
       "         2.0330e-01, -1.1359e-01,  9.7391e-02,  1.7923e-01, -9.0368e-02,\n",
       "        -2.9181e-01, -9.7950e-03, -3.4902e-02, -3.0413e-01,  7.8156e-02,\n",
       "        -3.1464e-01, -1.0845e-01, -8.6644e-02, -2.5976e-02,  1.3536e-01,\n",
       "        -9.7838e-02,  4.6399e-02, -3.3103e-01,  1.0312e-01, -1.3737e-01,\n",
       "         3.7380e-02,  1.4024e-01,  1.2885e-02, -2.1558e-01, -1.1832e-01,\n",
       "        -1.0086e-01, -2.1056e-01,  1.4944e-01, -9.9450e-02,  1.8749e-01,\n",
       "         7.4618e-02, -2.0123e-01, -4.2077e-02, -3.5835e-01, -3.6111e-02,\n",
       "        -1.4353e-01, -2.2786e-01, -2.5859e-01,  6.4623e-02, -1.2247e-01,\n",
       "        -2.0496e-01, -2.6356e-02,  7.1172e-02,  1.4596e-02, -2.5912e-01,\n",
       "        -5.0014e-02,  1.2589e-01, -1.5811e-01,  1.3857e-01,  8.0496e-02,\n",
       "        -4.3992e-02, -5.4958e-02,  2.0495e-03,  1.0958e-01, -2.1105e-01,\n",
       "        -3.3161e-02, -2.3249e-01,  3.3251e-02,  8.7067e-02,  2.2375e-01,\n",
       "         3.3291e-01, -2.6470e-01, -9.8754e-02,  2.4900e-02, -1.8185e-01,\n",
       "         1.0315e-02,  1.1872e-01,  9.3974e-02, -1.6669e-01, -3.0196e-02,\n",
       "        -2.9076e-01, -6.3069e-02, -5.3199e-02, -3.1907e-02,  2.3594e-02,\n",
       "        -2.6657e-01, -1.0217e-02,  2.2808e-02, -6.9072e-02,  3.0025e-02,\n",
       "         4.3948e-02,  5.7158e-02, -4.4190e-02,  1.0804e-01,  7.5056e-02,\n",
       "        -7.1533e-02,  3.7530e-02, -1.1485e-01,  1.9082e-01,  4.9781e-02,\n",
       "         9.0695e-03, -3.5013e-01,  2.0020e-02, -1.8655e-01,  1.5025e-01,\n",
       "        -1.0688e-01, -1.5388e-01, -9.5980e-02,  1.2824e-01,  1.0132e-01,\n",
       "        -3.0021e-01,  7.7850e-03, -1.3117e-02, -1.2796e-01,  7.0904e-02,\n",
       "         1.4435e-01, -1.0082e-01,  2.3622e-01, -2.5560e-02,  2.7397e-01,\n",
       "        -2.6129e-01, -7.4703e-02,  2.0432e-02, -1.2204e-01, -1.1345e-01,\n",
       "        -2.5729e-01,  3.4216e-02,  7.0940e-02,  1.1611e-01, -3.6416e-02,\n",
       "        -6.3172e-03, -5.8405e-03, -1.7632e-01, -8.6824e-02,  6.7625e-02,\n",
       "        -1.0824e-01, -1.1462e-01,  3.9709e-02,  1.9075e-01, -4.3286e-01,\n",
       "        -1.2804e-02, -1.6329e-01,  4.8813e-02,  7.4029e-02,  1.2283e-01,\n",
       "         2.9321e-01,  2.0882e-01,  9.0979e-02,  6.0498e-02,  1.3481e-01,\n",
       "        -1.3738e-01,  1.1438e-01,  5.2834e-02,  7.5948e-02, -8.0758e-02,\n",
       "         7.3948e-02,  8.2136e-02, -2.7963e-02,  1.7453e-02,  1.0450e-01,\n",
       "         8.0325e-02,  1.2859e-01, -6.0224e-02, -4.2387e-02, -1.1794e-01,\n",
       "        -2.7231e-01,  3.4379e-02, -6.3775e-02, -1.0251e-01, -1.7775e-02,\n",
       "         1.5237e-01,  1.7036e-01, -5.2149e-02,  1.4932e-02, -9.1533e-02,\n",
       "        -1.0838e-01,  1.7146e-02,  1.0682e-01,  1.2415e-01, -5.8364e-02,\n",
       "         1.5382e-01,  1.0158e-01,  5.5226e-02,  1.2805e-01, -3.2817e-01,\n",
       "         1.5341e-01,  1.1802e-01, -2.0716e-02, -2.7130e-01,  2.1308e-01,\n",
       "         1.6179e-01,  5.5492e-02,  4.1841e-02, -4.1383e-02,  1.2141e-01,\n",
       "         1.1173e-01, -6.0510e-02,  5.1917e-02, -3.1060e-01, -3.3847e-03,\n",
       "         2.4702e-02,  1.1997e-01,  5.1196e-02,  2.1283e-01])"
      ]
     },
     "execution_count": 35,
     "metadata": {},
     "output_type": "execute_result"
    }
   ],
   "source": [
    "embeddings[1]"
   ]
  },
  {
   "cell_type": "code",
   "execution_count": 31,
   "metadata": {},
   "outputs": [
    {
     "name": "stdout",
     "output_type": "stream",
     "text": [
      "As recomendações mais similares ao item 'bíblia vinho,' são:\n",
      "\n",
      "                          Item Recomendado  Sim_Coss\n",
      "0  vinhos - degustação, elaboração serviço  0.769940\n",
      "1                     guia essencial vinho  0.766739\n",
      "2                            vinhos comida  0.757899\n",
      "3                               ignorantes  0.747955\n",
      "4                 breve história bebedeira  0.728047\n",
      "5                               alma vinho  0.726168\n",
      "6                       novas regras vinho  0.719422\n",
      "7                           conheça vinhos  0.715776\n",
      "8        cem melhores cervejas brasileiras  0.695515\n",
      "9                   hist—ria mundo 6 copos  0.685107\n"
     ]
    }
   ],
   "source": [
    "recomender.recomendar_itens(\"9788500012952\",10)"
   ]
  },
  {
   "cell_type": "code",
   "execution_count": 19,
   "metadata": {},
   "outputs": [
    {
     "name": "stdout",
     "output_type": "stream",
     "text": [
      "As recomendações mais similares ao item 'guerreiro pagão - crônicas saxônicas - vol. 7' são:\n",
      "\n",
      "                                    Item Recomendado  Sim_Coss\n",
      "0         guerra lobo - crônicas saxônicas - vol. 11  0.809031\n",
      "1          trono vazio - crônicas saxônicas - vol. 8  0.791403\n",
      "2       portador fogo - crônicas saxônicas - vol. 10  0.784609\n",
      "3  guerreiros tempestade - crônicas saxônicas - v...  0.770763\n",
      "4        guerreiro pagão (vol. 7 crônicas saxônicas)  0.748087\n",
      "5           guerra lobo (vol. 11 crônicas saxônicas)  0.747763\n",
      "6      cavaleiro morte - crônicas saxônicas - vol. 2  0.680716\n",
      "7            trono vazio (vol. 8 crônicas saxônicas)  0.679548\n",
      "8           espada reis (vol. 12 crônicas saxônicas)  0.673363\n",
      "9        canção espada - crônicas saxônicas - vol. 4  0.658912\n"
     ]
    }
   ],
   "source": [
    "recomender.recomendar_itens(\"9788501038012\",10)"
   ]
  },
  {
   "cell_type": "code",
   "execution_count": 21,
   "metadata": {},
   "outputs": [
    {
     "name": "stdout",
     "output_type": "stream",
     "text": [
      "As recomendações mais similares ao item 'livro desassossego' são:\n",
      "\n",
      "                       Item Recomendado  Sim_Coss\n",
      "0                    livro desassossego  0.803996\n",
      "1                     homem despedaçado  0.798158\n",
      "2  fragmentos sobre escreve psicanálise  0.791037\n",
      "3   metapoesia desvairada mário andrade  0.787451\n",
      "4                leituras desarquivadas  0.785937\n",
      "5                       procura romance  0.779218\n",
      "6                         livro algozes  0.770106\n",
      "7                     literatura perigo  0.768928\n",
      "8                                 tempo  0.767328\n",
      "9                         dentro dentro  0.766282\n"
     ]
    }
   ],
   "source": [
    "recomender.recomendar_itens(\"9788594318572\",10)"
   ]
  }
 ],
 "metadata": {
  "kernelspec": {
   "display_name": "Python 3",
   "language": "python",
   "name": "python3"
  },
  "language_info": {
   "codemirror_mode": {
    "name": "ipython",
    "version": 3
   },
   "file_extension": ".py",
   "mimetype": "text/x-python",
   "name": "python",
   "nbconvert_exporter": "python",
   "pygments_lexer": "ipython3",
   "version": "3.12.3"
  }
 },
 "nbformat": 4,
 "nbformat_minor": 2
}
